{
 "cells": [
  {
   "cell_type": "code",
   "execution_count": 1,
   "metadata": {},
   "outputs": [],
   "source": [
    "import numpy as np\n",
    "from sklearn import svm\n",
    "from sklearn.metrics import accuracy_score\n",
    "from sklearn.metrics.pairwise import rbf_kernel\n",
    "import tensorflow as tf\n",
    "from sklearn.model_selection import train_test_split\n",
    "from KernelCombinations import basic_combinations\n",
    "import logging\n",
    "import os\n",
    "import matplotlib.pyplot as plt\n",
    "import matplotlib.image as mpimg\n",
    "from PIL import Image\n",
    "from SupportVectorMachine import rotate_SV, translate_SV\n",
    "\n",
    "tf.enable_eager_execution()\n",
    "logging.disable(logging.WARNING)\n",
    "os.environ['TF_CPP_MIN_LOG_LEVEL'] = '3'\n",
    "np.random.seed(0)"
   ]
  },
  {
   "cell_type": "markdown",
   "metadata": {},
   "source": [
    "### Generate artificial dataset"
   ]
  },
  {
   "cell_type": "code",
   "execution_count": 2,
   "metadata": {},
   "outputs": [],
   "source": [
    "n = 800\n",
    "total_samples = n * 3\n",
    "test_ratio = 0.90\n",
    "num_train = int(round(total_samples * (1 - test_ratio)))\n",
    "num_test = int(round(total_samples * test_ratio))\n",
    "gamma = 0\n",
    "\n",
    "L = 30\n",
    "X = np.zeros((n * 3, L, L))\n",
    "Y = np.zeros(n * 3)\n",
    "\n",
    "for i in range(0, n):\n",
    "    x1 = np.random.randint(0, 11)\n",
    "    x2 = np.random.randint(10, 21)\n",
    "    x3 = np.random.randint(20, 30)\n",
    "\n",
    "    l1 = np.random.randint(3, 8)\n",
    "    l2 = np.random.randint(3, 8)\n",
    "    l3 = np.random.randint(3, 8)\n",
    "\n",
    "    y1 = np.random.randint(0, L - l1)\n",
    "    y2 = np.random.randint(0, L - l2)\n",
    "    y3 = np.random.randint(0, L - l3)\n",
    "\n",
    "    X[i, y1:y1 + l1, x1] = 1\n",
    "    X[i + n, y2:y2 + l2, x2] = 1\n",
    "    X[i + 2 * n, y3:y3 + l3, x3] = 1\n",
    "\n",
    "X = X.reshape(3 * n, L * L)\n",
    "\n",
    "Y[0:n] = 0\n",
    "Y[n:2 * n] = 1\n",
    "Y[2 * n:3 * n] = 2"
   ]
  },
  {
   "cell_type": "markdown",
   "metadata": {},
   "source": [
    "### Check some training samples"
   ]
  },
  {
   "cell_type": "code",
   "execution_count": 3,
   "metadata": {},
   "outputs": [
    {
     "data": {
      "image/png": "[encoded data removed]",
      "text/plain": [
       "<Figure size 1080x360 with 3 Axes>"
      ]
     },
     "metadata": {
      "needs_background": "light"
     },
     "output_type": "display_data"
    }
   ],
   "source": [
    "plt.figure(figsize=(15, 5))\n",
    "\n",
    "for i in range(0, 3):\n",
    "    sample = X[np.random.randint(i*n, (i+1)*n)]\n",
    "    sample[sample == 1] = 255\n",
    "    img = Image.fromarray(sample.reshape(L, L)).convert('RGB')\n",
    "    \n",
    "    plt.subplot(131 + i)\n",
    "    plt.imshow(img)\n",
    "    plt.title(f\"Class {i+1} sample\")\n",
    "\n",
    "plt.show()"
   ]
  },
  {
   "cell_type": "markdown",
   "metadata": {},
   "source": [
    "### Define pooling kernel"
   ]
  },
  {
   "cell_type": "code",
   "execution_count": 4,
   "metadata": {},
   "outputs": [],
   "source": [
    "def pooling_kernel(x_matrix, y_matrix):\n",
    "    num_features = x_matrix.shape[1]\n",
    "    sqrt_features = int(np.sqrt(num_features))\n",
    "    x_length = x_matrix.shape[0]\n",
    "    y_length = y_matrix.shape[0]\n",
    "\n",
    "    gram_matrix = rbf_kernel(x_matrix, y_matrix, gamma=A_gamma)\n",
    "\n",
    "    x_reshaped = x_matrix.reshape(x_length, sqrt_features, sqrt_features, 1)\n",
    "    y_reshaped = y_matrix.reshape(y_length, sqrt_features, sqrt_features, 1)\n",
    "\n",
    "    max_pool = tf.keras.layers.MaxPool2D(pool_size=(2, 2),\n",
    "                                         strides=1)\n",
    "    filtered_x = max_pool(x_reshaped).numpy() \\\n",
    "        .reshape(x_length,\n",
    "                 np.square(int(sqrt_features - 1)))\n",
    "    filtered_y = max_pool(y_reshaped).numpy() \\\n",
    "        .reshape(y_length,\n",
    "                 np.square(int(sqrt_features - 1)))\n",
    "\n",
    "    pooled_matrix = rbf_kernel(filtered_x, filtered_y, gamma=B_gamma)\n",
    "\n",
    "    max_pool2 = tf.keras.layers.MaxPool2D(pool_size=(3, 3),\n",
    "                                          strides=1)\n",
    "    filtered_x_2 = max_pool2(x_reshaped).numpy() \\\n",
    "        .reshape(x_length,\n",
    "                 np.square(int(sqrt_features - 2)))\n",
    "    filtered_y_2 = max_pool2(y_reshaped).numpy() \\\n",
    "        .reshape(y_length,\n",
    "                 np.square(int(sqrt_features - 2)))\n",
    "\n",
    "    pooled_matrix_2 = rbf_kernel(filtered_x_2, filtered_y_2, gamma=C_gamma)\n",
    "\n",
    "    A = gram_matrix\n",
    "    B = pooled_matrix\n",
    "    C = pooled_matrix_2\n",
    "\n",
    "    gram_matrix = combiner(A, B, C)\n",
    "    return gram_matrix"
   ]
  },
  {
   "cell_type": "code",
   "execution_count": 5,
   "metadata": {},
   "outputs": [],
   "source": [
    "def test_error(model, features, labels):\n",
    "    error = (1.0 - accuracy_score(labels, model.predict(features))) * 100\n",
    "    return np.around(error, decimals=2)"
   ]
  },
  {
   "cell_type": "markdown",
   "metadata": {},
   "source": [
    "### Run SVM with pooling kernel"
   ]
  },
  {
   "cell_type": "code",
   "execution_count": 20,
   "metadata": {},
   "outputs": [],
   "source": [
    "gammas = np.logspace(-3.5, -0.65, 7)\n",
    "num_runs = 1\n",
    "\n",
    "errors = np.zeros((len(basic_combinations), len(gammas)))\n",
    "VSV_errors = np.zeros(len(gammas))\n",
    "\n",
    "for rstate in range(0, num_runs):\n",
    "    X_train, X_test, Y_train, Y_test = train_test_split(X, Y, test_size=test_ratio,\n",
    "                                                        random_state=rstate)\n",
    "    \n",
    "    # Test the pooling kernel \n",
    "    for i, f in enumerate(basic_combinations):\n",
    "        combiner = f\n",
    "        current_errors = []\n",
    "        for g in gammas:\n",
    "            A_gamma = B_gamma = C_gamma = g\n",
    "            model = svm.SVC(C=2, cache_size=50, kernel=pooling_kernel)\n",
    "            model.fit(X_train, Y_train)\n",
    "            current_errors.append(test_error(model, X_test, Y_test))\n",
    "        errors[i] += np.asarray(current_errors)\n",
    "    \n",
    "    # Test VSV method\n",
    "    directions = [(1, 0), (-1, 0), (0, 1), (0, -1), (1, 1), (1, -1), (-1, 1), (-1, -1)]\n",
    "    X_train, Y_train = translate_SV(X_train, directions, 1, 1, Y_train)\n",
    "    combiner = basic_combinations[0]\n",
    "    current_errors = []\n",
    "    for g in gammas:\n",
    "        A_gamma = B_gamma = C_gamma = g\n",
    "        model = svm.SVC(C=2, cache_size=50, kernel=pooling_kernel)\n",
    "        model.fit(X_train, Y_train)\n",
    "        current_errors.append(test_error(model, X_test, Y_test))\n",
    "    VSV_errors += np.asarray(current_errors)\n",
    "\n",
    "# VSV_errors = VSV_errors / num_runs\n",
    "errors = errors / num_runs"
   ]
  },
  {
   "cell_type": "code",
   "execution_count": 16,
   "metadata": {},
   "outputs": [
    {
     "data": {
      "image/png": "[encoded data removed]",
      "text/plain": [
       "<Figure size 432x288 with 1 Axes>"
      ]
     },
     "metadata": {
      "needs_background": "light"
     },
     "output_type": "display_data"
    }
   ],
   "source": [
    "plt.clf()\n",
    "plt.ylim(0, 50)\n",
    "plt.plot(gammas, errors[0], label='RBF')\n",
    "plt.plot(gammas, errors[1], label='Pooling 2x2')\n",
    "plt.plot(gammas, errors[2], label='$Pooling 3x3$')\n",
    "plt.plot(gammas, VSV_errors, label='VSV')\n",
    "plt.title(f\"Artificial Lines dataset\")\n",
    "plt.legend(loc='upper right')\n",
    "plt.xlabel(\"$\\gamma$\")\n",
    "plt.ylabel(\"Generalization error\")\n",
    "# plt.savefig(\"kernel-comparison.png\", dpi=400)\n",
    "plt.show()"
   ]
  },
  {
   "cell_type": "markdown",
   "metadata": {},
   "source": [
    "### Plot learning curves"
   ]
  },
  {
   "cell_type": "code",
   "execution_count": 42,
   "metadata": {},
   "outputs": [
    {
     "data": {
      "image/png": "[encoded data removed]",
      "text/plain": [
       "<Figure size 432x288 with 1 Axes>"
      ]
     },
     "metadata": {
      "needs_background": "light"
     },
     "output_type": "display_data"
    }
   ],
   "source": [
    "index = np.argmin(errors)\n",
    "A_gamma = B_gamma = C_gamma = gammas[index % len(gammas)]\n",
    "samples = range(5, 1000, 50)\n",
    "num_runs = 1\n",
    "\n",
    "LC_errors = np.zeros((len(basic_combinations), len(samples)))\n",
    "VSV_LC_errors = np.zeros(len(samples))\n",
    "\n",
    "for rstate in range(0, num_runs):\n",
    "\n",
    "    for i, num in enumerate(samples):\n",
    "\n",
    "        X_train, X_test, Y_train, Y_test = train_test_split(X, Y, test_size=3*n-num,\n",
    "                                                            random_state=rstate)\n",
    "        # Test the pooling kernel\n",
    "        for j, f in enumerate(basic_combinations):\n",
    "            combiner = f\n",
    "            model = svm.SVC(C=2, cache_size=50, kernel=pooling_kernel)\n",
    "            model.fit(X_train, Y_train)\n",
    "            LC_errors[j][i] += test_error(model, X_test, Y_test)\n",
    "            \n",
    "        # Test VSV method\n",
    "        directions = [(1, 0), (-1, 0), (0, 1), (0, -1), (1, 1), (1, -1), (-1, 1), (-1, -1)]\n",
    "        X_train, Y_train = translate_SV(X_train, directions, 1, 1, Y_train)\n",
    "        combiner = basic_combinations[0]\n",
    "        model = svm.SVC(C=2, cache_size=50, kernel=pooling_kernel)\n",
    "        model.fit(X_train, Y_train)\n",
    "        VSV_LC_errors[i] += test_error(model, X_test, Y_test)\n",
    "\n",
    "LC_errors = LC_errors / num_runs\n",
    "VSV_LC_errors = VSV_LC_errors / num_runs\n",
    "\n",
    "plt.clf()\n",
    "plt.ylim(0, 100)\n",
    "plt.plot(samples, LC_errors[0], label='$K_1$')\n",
    "plt.plot(samples, LC_errors[1], label='$K_2$')\n",
    "plt.plot(samples, LC_errors[2], label='$K_3$')\n",
    "plt.plot(samples, VSV_LC_errors, label='VSV')\n",
    "plt.title(f\"Learning curve for artificial lines dataaet\")\n",
    "plt.legend(loc='upper right')\n",
    "plt.xlabel(\"Number of training samples\")\n",
    "plt.ylabel(\"Generalization error\")\n",
    "plt.savefig(\"learning-curve.png\", dpi=400)\n",
    "plt.show()"
   ]
  },
  {
   "cell_type": "code",
   "execution_count": null,
   "metadata": {},
   "outputs": [],
   "source": []
  }
 ],
 "metadata": {
  "kernelspec": {
   "display_name": "Python 3",
   "language": "python",
   "name": "python3"
  },
  "language_info": {
   "codemirror_mode": {
    "name": "ipython",
    "version": 3
   },
   "file_extension": ".py",
   "mimetype": "text/x-python",
   "name": "python",
   "nbconvert_exporter": "python",
   "pygments_lexer": "ipython3",
   "version": "3.7.4"
  }
 },
 "nbformat": 4,
 "nbformat_minor": 4
}
