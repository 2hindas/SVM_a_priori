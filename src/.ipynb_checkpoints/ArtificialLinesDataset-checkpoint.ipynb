{
 "cells": [
  {
   "cell_type": "code",
   "execution_count": 10,
   "metadata": {},
   "outputs": [],
   "source": [
    "import numpy as np\n",
    "from sklearn import svm\n",
    "from sklearn.metrics import accuracy_score\n",
    "from sklearn.metrics.pairwise import rbf_kernel\n",
    "import tensorflow as tf\n",
    "from sklearn.model_selection import train_test_split\n",
    "from KernelCombinations import combinations, expressions, basic_combinations\n",
    "import logging\n",
    "import os\n",
    "import matplotlib.pyplot as plt\n",
    "import matplotlib.image as mpimg\n",
    "from PIL import Image\n",
    "import hickle as hkl\n",
    "from SupportVectorMachine import rotate_SV, translate_SV\n",
    "\n",
    "tf.enable_eager_execution()\n",
    "logging.disable(logging.WARNING)\n",
    "os.environ['TF_CPP_MIN_LOG_LEVEL'] = '3'\n",
    "np.random.seed(0)"
   ]
  },
  {
   "cell_type": "markdown",
   "metadata": {},
   "source": [
    "### Generate artificial dataset"
   ]
  },
  {
   "cell_type": "code",
   "execution_count": 11,
   "metadata": {},
   "outputs": [],
   "source": [
    "n = 800\n",
    "total_samples = n * 3\n",
    "test_ratio = 0.90\n",
    "num_train = int(round(total_samples * (1 - test_ratio)))\n",
    "num_test = int(round(total_samples * test_ratio))\n",
    "gamma = 0\n",
    "\n",
    "L = 30\n",
    "X = np.zeros((n * 3, L, L))\n",
    "Y = np.zeros(n * 3)\n",
    "\n",
    "for i in range(0, n):\n",
    "    x1 = np.random.randint(0, 11)\n",
    "    x2 = np.random.randint(10, 21)\n",
    "    x3 = np.random.randint(20, 30)\n",
    "\n",
    "    l1 = np.random.randint(3, 8)\n",
    "    l2 = np.random.randint(3, 8)\n",
    "    l3 = np.random.randint(3, 8)\n",
    "\n",
    "    y1 = np.random.randint(0, L - l1)\n",
    "    y2 = np.random.randint(0, L - l2)\n",
    "    y3 = np.random.randint(0, L - l3)\n",
    "\n",
    "    X[i, y1:y1 + l1, x1] = 1\n",
    "    X[i + n, y2:y2 + l2, x2] = 1\n",
    "    X[i + 2 * n, y3:y3 + l3, x3] = 1\n",
    "\n",
    "X = X.reshape(3 * n, L * L)\n",
    "\n",
    "Y[0:n] = 0\n",
    "Y[n:2 * n] = 1\n",
    "Y[2 * n:3 * n] = 2"
   ]
  },
  {
   "cell_type": "markdown",
   "metadata": {},
   "source": [
    "### Check some training samples"
   ]
  },
  {
   "cell_type": "code",
   "execution_count": 12,
   "metadata": {},
   "outputs": [
    {
     "data": {
      "image/png": "[encoded data removed]",
      "text/plain": [
       "<Figure size 1080x360 with 3 Axes>"
      ]
     },
     "metadata": {
      "needs_background": "light"
     },
     "output_type": "display_data"
    }
   ],
   "source": [
    "plt.figure(figsize=(15, 5))\n",
    "\n",
    "for i in range(0, 3):\n",
    "    sample = X[np.random.randint(i*n, (i+1)*n)]\n",
    "    sample[sample == 1] = 255\n",
    "    img = Image.fromarray(sample.reshape(L, L)).convert('RGB')\n",
    "    \n",
    "    plt.subplot(131 + i)\n",
    "    plt.imshow(img)\n",
    "    plt.title(f\"Class {i+1} sample\")\n",
    "\n",
    "plt.show()"
   ]
  },
  {
   "cell_type": "markdown",
   "metadata": {},
   "source": [
    "### Define pooling kernel"
   ]
  },
  {
   "cell_type": "code",
   "execution_count": 13,
   "metadata": {},
   "outputs": [],
   "source": [
    "def pooling_kernel(x_matrix, y_matrix):\n",
    "    num_features = x_matrix.shape[1]\n",
    "    sqrt_features = int(np.sqrt(num_features))\n",
    "    x_length = x_matrix.shape[0]\n",
    "    y_length = y_matrix.shape[0]\n",
    "\n",
    "    gram_matrix = rbf_kernel(x_matrix, y_matrix, gamma=A_gamma)\n",
    "\n",
    "    x_reshaped = x_matrix.reshape(x_length, sqrt_features, sqrt_features, 1)\n",
    "    y_reshaped = y_matrix.reshape(y_length, sqrt_features, sqrt_features, 1)\n",
    "\n",
    "    max_pool = tf.keras.layers.MaxPool2D(pool_size=(2, 2),\n",
    "                                         strides=1)\n",
    "    filtered_x = max_pool(x_reshaped).numpy() \\\n",
    "        .reshape(x_length,\n",
    "                 np.square(int(sqrt_features - 1)))\n",
    "    filtered_y = max_pool(y_reshaped).numpy() \\\n",
    "        .reshape(y_length,\n",
    "                 np.square(int(sqrt_features - 1)))\n",
    "\n",
    "    pooled_matrix = rbf_kernel(filtered_x, filtered_y, gamma=B_gamma)\n",
    "\n",
    "    max_pool2 = tf.keras.layers.MaxPool2D(pool_size=(3, 3),\n",
    "                                          strides=1)\n",
    "    filtered_x_2 = max_pool2(x_reshaped).numpy() \\\n",
    "        .reshape(x_length,\n",
    "                 np.square(int(sqrt_features - 2)))\n",
    "    filtered_y_2 = max_pool2(y_reshaped).numpy() \\\n",
    "        .reshape(y_length,\n",
    "                 np.square(int(sqrt_features - 2)))\n",
    "\n",
    "    pooled_matrix_2 = rbf_kernel(filtered_x_2, filtered_y_2, gamma=C_gamma)\n",
    "\n",
    "    A = gram_matrix\n",
    "    B = pooled_matrix\n",
    "    C = pooled_matrix_2\n",
    "\n",
    "    gram_matrix = combiner(A, B, C)\n",
    "    return gram_matrix"
   ]
  },
  {
   "cell_type": "code",
   "execution_count": 14,
   "metadata": {},
   "outputs": [],
   "source": [
    "def test_error(model, features, labels):\n",
    "    error = (1.0 - accuracy_score(labels, model.predict(features))) * 100\n",
    "    return np.around(error, decimals=2)"
   ]
  },
  {
   "cell_type": "markdown",
   "metadata": {},
   "source": [
    "### Run SVM with pooling kernel"
   ]
  },
  {
   "cell_type": "code",
   "execution_count": 17,
   "metadata": {},
   "outputs": [
    {
     "ename": "ValueError",
     "evalue": "cannot reshape array of size 216000 into shape (240,21,21)",
     "output_type": "error",
     "traceback": [
      "\u001b[0;31m---------------------------------------------------------------------------\u001b[0m",
      "\u001b[0;31mValueError\u001b[0m                                Traceback (most recent call last)",
      "\u001b[0;32m<ipython-input-17-5e64e2687d09>\u001b[0m in \u001b[0;36m<module>\u001b[0;34m\u001b[0m\n\u001b[1;32m     22\u001b[0m     \u001b[0;31m# Test VSV method\u001b[0m\u001b[0;34m\u001b[0m\u001b[0;34m\u001b[0m\u001b[0;34m\u001b[0m\u001b[0m\n\u001b[1;32m     23\u001b[0m     \u001b[0mdirections\u001b[0m \u001b[0;34m=\u001b[0m \u001b[0;34m[\u001b[0m\u001b[0;34m(\u001b[0m\u001b[0;36m1\u001b[0m\u001b[0;34m,\u001b[0m \u001b[0;36m0\u001b[0m\u001b[0;34m)\u001b[0m\u001b[0;34m,\u001b[0m\u001b[0;34m(\u001b[0m\u001b[0;34m-\u001b[0m\u001b[0;36m1\u001b[0m\u001b[0;34m,\u001b[0m \u001b[0;36m0\u001b[0m\u001b[0;34m)\u001b[0m\u001b[0;34m,\u001b[0m\u001b[0;34m(\u001b[0m\u001b[0;36m0\u001b[0m\u001b[0;34m,\u001b[0m \u001b[0;36m1\u001b[0m\u001b[0;34m)\u001b[0m\u001b[0;34m,\u001b[0m\u001b[0;34m(\u001b[0m\u001b[0;36m0\u001b[0m\u001b[0;34m,\u001b[0m \u001b[0;34m-\u001b[0m\u001b[0;36m1\u001b[0m\u001b[0;34m)\u001b[0m\u001b[0;34m]\u001b[0m\u001b[0;34m\u001b[0m\u001b[0;34m\u001b[0m\u001b[0m\n\u001b[0;32m---> 24\u001b[0;31m     \u001b[0mX_train\u001b[0m\u001b[0;34m,\u001b[0m \u001b[0mY_train\u001b[0m \u001b[0;34m=\u001b[0m \u001b[0mtranslate_SV\u001b[0m\u001b[0;34m(\u001b[0m\u001b[0mX_train\u001b[0m\u001b[0;34m,\u001b[0m \u001b[0mdirections\u001b[0m\u001b[0;34m,\u001b[0m \u001b[0;36m1\u001b[0m\u001b[0;34m,\u001b[0m \u001b[0;36m1\u001b[0m\u001b[0;34m,\u001b[0m \u001b[0mY_train\u001b[0m\u001b[0;34m)\u001b[0m\u001b[0;34m\u001b[0m\u001b[0;34m\u001b[0m\u001b[0m\n\u001b[0m\u001b[1;32m     25\u001b[0m \u001b[0;34m\u001b[0m\u001b[0m\n\u001b[1;32m     26\u001b[0m     \u001b[0mcurrent_errors\u001b[0m \u001b[0;34m=\u001b[0m \u001b[0;34m[\u001b[0m\u001b[0;34m]\u001b[0m\u001b[0;34m\u001b[0m\u001b[0;34m\u001b[0m\u001b[0m\n",
      "\u001b[0;32m~/Documents/Tuhin/Computer Science/Honours/SVM/SVM_a_priori/src/SupportVectorMachine.py\u001b[0m in \u001b[0;36mtranslate_SV\u001b[0;34m(vectors, transformations, min_trans, max_trans, labels)\u001b[0m\n\u001b[1;32m     35\u001b[0m             \u001b[0mnum_sv\u001b[0m \u001b[0;34m=\u001b[0m \u001b[0mlen\u001b[0m\u001b[0;34m(\u001b[0m\u001b[0mvectors\u001b[0m\u001b[0;34m)\u001b[0m\u001b[0;34m\u001b[0m\u001b[0;34m\u001b[0m\u001b[0m\n\u001b[1;32m     36\u001b[0m             transformation = im.shift(\n\u001b[0;32m---> 37\u001b[0;31m                 \u001b[0mvectors\u001b[0m\u001b[0;34m.\u001b[0m\u001b[0mreshape\u001b[0m\u001b[0;34m(\u001b[0m\u001b[0;34m(\u001b[0m\u001b[0mnum_sv\u001b[0m\u001b[0;34m,\u001b[0m \u001b[0;36m30\u001b[0m\u001b[0;34m,\u001b[0m \u001b[0;36m30\u001b[0m\u001b[0;34m)\u001b[0m\u001b[0;34m)\u001b[0m\u001b[0;34m,\u001b[0m\u001b[0;34m\u001b[0m\u001b[0;34m\u001b[0m\u001b[0m\n\u001b[0m\u001b[1;32m     38\u001b[0m                 (0, t[0] * i, t[1] * i), mode='constant', cval=-1)\n\u001b[1;32m     39\u001b[0m             \u001b[0moutput\u001b[0m \u001b[0;34m=\u001b[0m \u001b[0mnp\u001b[0m\u001b[0;34m.\u001b[0m\u001b[0mvstack\u001b[0m\u001b[0;34m(\u001b[0m\u001b[0;34m(\u001b[0m\u001b[0moutput\u001b[0m\u001b[0;34m,\u001b[0m \u001b[0mtransformation\u001b[0m\u001b[0;34m.\u001b[0m\u001b[0mreshape\u001b[0m\u001b[0;34m(\u001b[0m\u001b[0;34m(\u001b[0m\u001b[0mnum_sv\u001b[0m\u001b[0;34m,\u001b[0m \u001b[0;36m21\u001b[0m \u001b[0;34m*\u001b[0m \u001b[0;36m21\u001b[0m\u001b[0;34m)\u001b[0m\u001b[0;34m)\u001b[0m\u001b[0;34m)\u001b[0m\u001b[0;34m)\u001b[0m\u001b[0;34m\u001b[0m\u001b[0;34m\u001b[0m\u001b[0m\n",
      "\u001b[0;31mValueError\u001b[0m: cannot reshape array of size 216000 into shape (240,21,21)"
     ]
    }
   ],
   "source": [
    "gammas = np.logspace(-3.5, -0.65, 15)\n",
    "num_runs = 1\n",
    "\n",
    "errors = np.zeros((len(basic_combinations), len(gammas)))\n",
    "VSV_errors = np.zeros(len(gammas))\n",
    "\n",
    "for rstate in range(0, num_runs):\n",
    "    X_train, X_test, Y_train, Y_test = train_test_split(X, Y, test_size=test_ratio,\n",
    "                                                        random_state=rstate)\n",
    "    \n",
    "    # Test the pooling kernel \n",
    "#     for i, f in enumerate(basic_combinations):\n",
    "#         combiner = f\n",
    "#         current_errors = []\n",
    "#         for g in gammas:\n",
    "#             A_gamma = B_gamma = C_gamma = g\n",
    "#             model = svm.SVC(C=2, cache_size=50, kernel=pooling_kernel)\n",
    "#             model.fit(X_train, Y_train)\n",
    "#             current_errors.append(test_error(model, X_test, Y_test))\n",
    "#         errors[i] += np.asarray(current_errors)\n",
    "    \n",
    "    # Test VSV method\n",
    "    directions = [(1, 0),(-1, 0),(0, 1),(0, -1)]\n",
    "    X_train, Y_train = translate_SV(X_train, directions, 1, 1, Y_train)\n",
    "    \n",
    "    current_errors = []\n",
    "    for g in gammas:\n",
    "        A_gamma = B_gamma = C_gamma = g\n",
    "        model = svm.SVC(C=2, cache_size=50, kernel=pooling_kernel)\n",
    "        model.fit(X_train, Y_train)\n",
    "        current_errors.append(test_error(model, X_test, Y_test))\n",
    "    VSV_errors += np.asarray()\n",
    "\n",
    "VSV_errors = VSV_errors / num_runs\n",
    "# errors = errors / num_runs"
   ]
  },
  {
   "cell_type": "code",
   "execution_count": null,
   "metadata": {},
   "outputs": [],
   "source": [
    "plt.clf()\n",
    "plt.ylim(0, 50)\n",
    "plt.plot(gammas, errors[0], label='$K_1$')\n",
    "plt.plot(gammas, errors[1], label='$K_2$')\n",
    "plt.plot(gammas, errors[2], label='$K_3$')\n",
    "plt.title(f\"Lines dataset\")\n",
    "plt.legend(loc='upper right')\n",
    "plt.xlabel(\"$\\gamma$\")\n",
    "plt.ylabel(\"Generalization error\")\n",
    "plt.show()"
   ]
  },
  {
   "cell_type": "code",
   "execution_count": 9,
   "metadata": {},
   "outputs": [
    {
     "name": "stdout",
     "output_type": "stream",
     "text": [
      "[67.22  0.    0.    0.    0.    0.    0.    0.    0.    0.    0.    0.\n",
      "  0.    0.    0.  ]\n"
     ]
    },
    {
     "data": {
      "image/png": "[encoded data removed]",
      "text/plain": [
       "<Figure size 432x288 with 1 Axes>"
      ]
     },
     "metadata": {
      "needs_background": "light"
     },
     "output_type": "display_data"
    }
   ],
   "source": [
    "\n",
    "print(VSV_errors)\n",
    "plt.clf()\n",
    "plt.ylim(0, 50)\n",
    "plt.plot(gammas, VSV_errors, label='VSV')\n",
    "plt.title(f\"Lines dataset\")\n",
    "plt.legend(loc='upper right')\n",
    "plt.xlabel(\"$\\gamma$\")\n",
    "plt.ylabel(\"Generalization error\")\n",
    "plt.show()"
   ]
  },
  {
   "cell_type": "code",
   "execution_count": null,
   "metadata": {},
   "outputs": [],
   "source": []
  }
 ],
 "metadata": {
  "kernelspec": {
   "display_name": "Python 3",
   "language": "python",
   "name": "python3"
  },
  "language_info": {
   "codemirror_mode": {
    "name": "ipython",
    "version": 3
   },
   "file_extension": ".py",
   "mimetype": "text/x-python",
   "name": "python",
   "nbconvert_exporter": "python",
   "pygments_lexer": "ipython3",
   "version": "3.7.4"
  }
 },
 "nbformat": 4,
 "nbformat_minor": 4
}
