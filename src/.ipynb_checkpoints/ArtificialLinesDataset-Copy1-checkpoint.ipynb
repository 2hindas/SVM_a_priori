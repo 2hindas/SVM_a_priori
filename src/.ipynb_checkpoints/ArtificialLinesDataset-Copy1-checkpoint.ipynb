{
 "cells": [
  {
   "cell_type": "code",
   "execution_count": 7,
   "metadata": {},
   "outputs": [],
   "source": [
    "import numpy as np\n",
    "from sklearn import svm\n",
    "from sklearn.metrics import accuracy_score\n",
    "from sklearn.metrics.pairwise import rbf_kernel\n",
    "import tensorflow as tf\n",
    "from sklearn.model_selection import train_test_split\n",
    "from KernelCombinations import basic_combinations\n",
    "import logging\n",
    "import os\n",
    "import matplotlib.pyplot as plt\n",
    "import matplotlib.image as mpimg\n",
    "from PIL import Image\n",
    "from SupportVectorMachine import SupportVectorMachine\n",
    "import hickle as hkl\n",
    "\n",
    "tf.enable_eager_execution()\n",
    "logging.disable(logging.WARNING)\n",
    "os.environ['TF_CPP_MIN_LOG_LEVEL'] = '3'\n",
    "np.random.seed(0)\n",
    "\n",
    "directions = [(1, 0), (-1, 0), (0, 1), (0, -1), (1, 1), (1, -1), (-1, 1), (-1, -1)]"
   ]
  },
  {
   "cell_type": "markdown",
   "metadata": {},
   "source": [
    "### Retrieve MNIST dataset"
   ]
  },
  {
   "cell_type": "code",
   "execution_count": 23,
   "metadata": {},
   "outputs": [],
   "source": [
    "gamma = 0\n",
    "\n",
    "dataset = \"MNIST\"\n",
    "X_train = hkl.load(f'../data/{dataset}/{dataset}_train_features.hkl')\n",
    "Y_train = hkl.load(f'../data/{dataset}/{dataset}_train_labels.hkl')\n",
    "X_test = hkl.load(f'../data/{dataset}/{dataset}_test_features.hkl')\n",
    "Y_test = hkl.load(f'../data/{dataset}/{dataset}_test_labels.hkl')"
   ]
  },
  {
   "cell_type": "markdown",
   "metadata": {},
   "source": [
    "### Check some training samples"
   ]
  },
  {
   "cell_type": "code",
   "execution_count": 20,
   "metadata": {},
   "outputs": [
    {
     "data": {
      "image/png": "[encoded data removed]",
      "text/plain": [
       "<Figure size 1080x360 with 3 Axes>"
      ]
     },
     "metadata": {
      "needs_background": "light"
     },
     "output_type": "display_data"
    }
   ],
   "source": [
    "plt.figure(figsize=(15, 5))\n",
    "\n",
    "for i in range(0, 3):\n",
    "    sample = X_train[np.random.randint(0, 1000)]\n",
    "    sample *= 255\n",
    "    img = Image.fromarray(sample.reshape(28, 28)).convert('RGB')\n",
    "    \n",
    "    plt.subplot(131 + i)\n",
    "    plt.imshow(img)\n",
    "    plt.title(f\"Class {i+1} sample\")\n",
    "\n",
    "plt.show()"
   ]
  },
  {
   "cell_type": "markdown",
   "metadata": {},
   "source": [
    "### Define pooling kernel"
   ]
  },
  {
   "cell_type": "code",
   "execution_count": 27,
   "metadata": {},
   "outputs": [],
   "source": [
    "def pooling_kernel(x_matrix, y_matrix):\n",
    "    num_features = x_matrix.shape[1]\n",
    "    sqrt_features = int(np.sqrt(num_features))\n",
    "    x_length = x_matrix.shape[0]\n",
    "    y_length = y_matrix.shape[0]\n",
    "\n",
    "    gram_matrix = rbf_kernel(x_matrix, y_matrix, gamma=A_gamma)\n",
    "\n",
    "#     x_reshaped = x_matrix.reshape(x_length, sqrt_features, sqrt_features, 1)\n",
    "#     y_reshaped = y_matrix.reshape(y_length, sqrt_features, sqrt_features, 1)\n",
    "\n",
    "#     max_pool = tf.keras.layers.MaxPool2D(pool_size=(2, 2),\n",
    "#                                          strides=1)\n",
    "#     filtered_x = max_pool(x_reshaped).numpy() \\\n",
    "#         .reshape(x_length,\n",
    "#                  np.square(int(sqrt_features - 1)))\n",
    "#     filtered_y = max_pool(y_reshaped).numpy() \\\n",
    "#         .reshape(y_length,\n",
    "#                  np.square(int(sqrt_features - 1)))\n",
    "\n",
    "#     pooled_matrix = rbf_kernel(filtered_x, filtered_y, gamma=B_gamma)\n",
    "\n",
    "#     max_pool2 = tf.keras.layers.MaxPool2D(pool_size=(3, 3),\n",
    "#                                           strides=1)\n",
    "#     filtered_x_2 = max_pool2(x_reshaped).numpy() \\\n",
    "#         .reshape(x_length,\n",
    "#                  np.square(int(sqrt_features - 2)))\n",
    "#     filtered_y_2 = max_pool2(y_reshaped).numpy() \\\n",
    "#         .reshape(y_length,\n",
    "#                  np.square(int(sqrt_features - 2)))\n",
    "\n",
    "#     pooled_matrix_2 = rbf_kernel(filtered_x_2, filtered_y_2, gamma=C_gamma)\n",
    "\n",
    "    return gram_matrix"
   ]
  },
  {
   "cell_type": "code",
   "execution_count": 25,
   "metadata": {},
   "outputs": [],
   "source": [
    "def test_error(model, features, labels):\n",
    "    error = (1.0 - accuracy_score(labels, model.predict(features))) * 100\n",
    "    return np.around(error, decimals=2)"
   ]
  },
  {
   "cell_type": "markdown",
   "metadata": {},
   "source": [
    "### Run SVM with pooling kernel"
   ]
  },
  {
   "cell_type": "code",
   "execution_count": 46,
   "metadata": {},
   "outputs": [],
   "source": [
    "gammas = np.logspace(-1.8, -1, 15)\n",
    "# gammas = np.logspace(-1.9, -0.65, 15)\n",
    "# gammas = np.logspace(-3.5, -0.65, 15)\n",
    "num_runs = 1\n",
    "\n",
    "errors = np.zeros(len(gammas))\n",
    "VSV_errors = np.zeros(len(gammas))\n",
    "\n",
    "for rstate in range(0, num_runs):\n",
    "    # Test the pooling kernel \n",
    "\n",
    "    current_errors = []\n",
    "    for g in gammas:\n",
    "        A_gamma = B_gamma = C_gamma = g\n",
    "        model = svm.SVC(C=2, cache_size=50, kernel=pooling_kernel)\n",
    "        model.fit(X_train, Y_train)\n",
    "        current_errors.append(test_error(model, X_test, Y_test))\n",
    "    errors = np.asarray(current_errors)\n",
    "    \n",
    "    # Test VSV method\n",
    "#     current_errors = []\n",
    "#     for g in gammas:\n",
    "#         model = SupportVectorMachine(X_train, Y_train, X_test, Y_test, g)\n",
    "#         model.train()\n",
    "#         model.translate_SV(directions[0:8], 1, 1)\n",
    "#         model.train()\n",
    "#         current_errors.append(model.error())\n",
    "\n",
    "#     VSV_errors += np.asarray(current_errors)\n",
    "\n",
    "# VSV_errors = VSV_errors / num_runs\n",
    "errors = errors / num_runs"
   ]
  },
  {
   "cell_type": "code",
   "execution_count": 47,
   "metadata": {},
   "outputs": [
    {
     "name": "stdout",
     "output_type": "stream",
     "text": [
      "[0.01584893 0.01807769 0.02061986 0.02351953 0.02682696 0.0305995\n",
      " 0.03490255 0.03981072 0.0454091  0.05179475 0.05907838 0.06738627\n",
      " 0.07686246 0.08767124 0.1       ]\n",
      "[12.3 16.4 20.6 25.9 32.1 37.8 43.2 58.9 65.1 67.4 71.  77.5 79.  79.9\n",
      " 80.2]\n"
     ]
    },
    {
     "data": {
      "image/png": "[encoded data removed]",
      "text/plain": [
       "<Figure size 432x288 with 1 Axes>"
      ]
     },
     "metadata": {
      "needs_background": "light"
     },
     "output_type": "display_data"
    }
   ],
   "source": [
    "plt.clf()\n",
    "plt.ylim(0, 100)\n",
    "plt.plot(gammas, errors, label='Standard RBF')\n",
    "# plt.plot(gammas, errors[1], label='Pooling 2x2')\n",
    "# plt.plot(gammas, errors[2], label='Pooling 3x3')\n",
    "# plt.plot(gammas, VSV_errors, label='VSV')\n",
    "\n",
    "# plt.scatter(gammas[np.argmin(errors[0])], errors[0][np.argmin(errors[0])])\n",
    "# plt.scatter(gammas[np.argmin(errors[1])], errors[1][np.argmin(errors[1])])\n",
    "# plt.scatter(gammas[np.argmin(errors[2])], errors[2][np.argmin(errors[2])])\n",
    "# plt.scatter(gammas[np.argmin(VSV_errors)], VSV_errors[np.argmin(VSV_errors)])\n",
    "\n",
    "# plt.title(f\"Artificial Lines dataset\")\n",
    "plt.legend(loc='upper right')\n",
    "plt.xlabel(\"$\\gamma$\")\n",
    "plt.ylabel(\"Generalization error\")\n",
    "print(gammas)\n",
    "print(errors)\n",
    "# print(VSV_errors)\n",
    "plt.savefig(\"kernel-comparison.png\", dpi=400)\n",
    "plt.show()"
   ]
  },
  {
   "cell_type": "code",
   "execution_count": 48,
   "metadata": {},
   "outputs": [
    {
     "name": "stdout",
     "output_type": "stream",
     "text": [
      "(0.015848931924611134, 12.3)\n",
      "(0.01807768676963434, 16.4)\n",
      "(0.020619860095022202, 20.6)\n",
      "(0.02351952635070959, 25.9)\n",
      "(0.02682695795279726, 32.1)\n",
      "(0.03059949687207196, 37.8)\n",
      "(0.03490254878959579, 43.2)\n",
      "(0.039810717055349734, 58.9)\n",
      "(0.045409096109724746, 65.1)\n",
      "(0.05179474679231213, 67.4)\n",
      "(0.05907837911587943, 71.0)\n",
      "(0.06738627168030947, 77.5)\n",
      "(0.07686246100397738, 79.0)\n",
      "(0.08767123872968682, 79.9)\n",
      "(0.1, 80.2)\n"
     ]
    }
   ],
   "source": [
    "\n",
    "for i in range(0, len(errors)):\n",
    "    print(f\"({gammas[i]}, {errors[i]})\")\n",
    "        \n",
    "# print()\n",
    "\n",
    "# for i in range(0, len(VSV_errors)):\n",
    "#         print(f\"({gammas[i]}, {VSV_errors[i]})\")  "
   ]
  },
  {
   "cell_type": "code",
   "execution_count": 49,
   "metadata": {},
   "outputs": [
    {
     "name": "stdout",
     "output_type": "stream",
     "text": [
      "Minimum errors:\n",
      "\n",
      "Standard SVM: 12.3 with gamma 0.015848931924611134\n"
     ]
    }
   ],
   "source": [
    "print(\"Minimum errors:\\n\")\n",
    "\n",
    "# VSV_gamma = gammas[np.argmin(VSV_errors)]\n",
    "standard_gamma = gammas[np.argmin(errors)]\n",
    "# pooling2_gamma = gammas[np.argmin(errors[1])]\n",
    "# pooling3_gamma = gammas[np.argmin(errors[2])]\n",
    "\n",
    "# optimal_gammas = [standard_gamma, pooling2_gamma, pooling3_gamma, VSV_gamma]\n",
    "\n",
    "# print(f\"VSV SVM: {VSV_errors[np.argmin(VSV_errors)]} with gamma {VSV_gamma}\" )\n",
    "print(f\"Standard SVM: {errors[np.argmin(errors[0])]} with gamma {standard_gamma}\" )\n",
    "# print(f\"Pooling 2x2 SVM: {errors[1][np.argmin(errors[1])]} with gamma {pooling2_gamma}\" )\n",
    "# print(f\"Pooling 3x3 SVM: {errors[2][np.argmin(errors[2])]} with gamma {pooling3_gamma}\" )\n",
    "\n",
    "exit()"
   ]
  },
  {
   "cell_type": "markdown",
   "metadata": {},
   "source": [
    "### Plot learning curves"
   ]
  },
  {
   "cell_type": "code",
   "execution_count": 150,
   "metadata": {},
   "outputs": [],
   "source": [
    "index = np.argmin(errors)\n",
    "A_gamma = B_gamma = C_gamma = gammas[index % len(gammas)]\n",
    "\n",
    "samples = range(5, 1000, 50)\n",
    "num_runs = 5\n",
    "\n",
    "LC_errors = np.zeros((len(basic_combinations), len(samples)))\n",
    "VSV_LC_errors = np.zeros(len(samples))\n",
    "\n",
    "for rstate in range(0, num_runs):\n",
    "\n",
    "    for i, num in enumerate(samples):\n",
    "\n",
    "        X_train, X_test, Y_train, Y_test = train_test_split(X, Y, test_size=3*n-num,\n",
    "                                                            random_state=rstate)\n",
    "        # Test the pooling kernel\n",
    "        for j, f in enumerate(basic_combinations):\n",
    "            A_gamma = B_gamma = C_gamma = optimal_gammas[j]\n",
    "            combiner = f\n",
    "            model = svm.SVC(C=2, cache_size=50, kernel=pooling_kernel)\n",
    "            model.fit(X_train, Y_train)\n",
    "            LC_errors[j][i] += test_error(model, X_test, Y_test)\n",
    "            \n",
    "        # Test VSV method\n",
    "        model = SupportVectorMachine(X_train, Y_train, X_test, Y_test, VSV_gamma)\n",
    "        model.train()\n",
    "        model.translate_SV(directions[0:8], 1, 1)\n",
    "        model.train()\n",
    "        VSV_LC_errors[i] += model.error()\n",
    "\n",
    "LC_errors = LC_errors / num_runs\n",
    "VSV_LC_errors = VSV_LC_errors / num_runs"
   ]
  },
  {
   "cell_type": "code",
   "execution_count": 185,
   "metadata": {},
   "outputs": [
    {
     "name": "stdout",
     "output_type": "stream",
     "text": [
      "[[65.672 43.42  30.536 20.892 15.812 11.178  9.61   9.34   8.452  8.082\n",
      "   7.472  7.286  7.02   6.738  6.606  6.554  6.42   6.406  6.37   6.31 ]\n",
      " [64.068 24.188 13.368  8.974  7.452  6.818  6.52   6.67   6.52   6.48\n",
      "   6.542  6.482  6.33   6.316  6.324  6.444  6.296  6.266  6.3    6.382]\n",
      " [62.038 17.372 10.1    7.83   7.042  6.47   6.482  6.582  6.528  6.406\n",
      "   6.598  6.484  6.516  6.36   6.396  6.442  6.522  6.342  6.38   6.41 ]]\n",
      "[62.056 24.136 13.63   9.898  8.526  7.952  7.532  7.052  6.6    6.642\n",
      "  6.556  6.688  6.954  6.818  6.668  6.674  6.796  6.614  6.784  6.632]\n",
      "(5, 65.672)\n",
      "(55, 43.42)\n",
      "(105, 30.536)\n",
      "(155, 20.892000000000003)\n",
      "(205, 15.812000000000001)\n",
      "(255, 11.178)\n",
      "(305, 9.610000000000001)\n",
      "(355, 9.34)\n",
      "(405, 8.452000000000002)\n",
      "(455, 8.081999999999999)\n",
      "(505, 7.4719999999999995)\n",
      "(555, 7.286)\n",
      "(605, 7.019999999999999)\n",
      "(655, 6.738000000000001)\n",
      "(705, 6.606)\n",
      "(755, 6.554)\n",
      "(805, 6.42)\n",
      "(855, 6.406000000000001)\n",
      "(905, 6.369999999999999)\n",
      "(955, 6.3100000000000005)\n",
      "\n",
      "(5, 64.068)\n",
      "(55, 24.188)\n",
      "(105, 13.368)\n",
      "(155, 8.974)\n",
      "(205, 7.452)\n",
      "(255, 6.8180000000000005)\n",
      "(305, 6.5200000000000005)\n",
      "(355, 6.67)\n",
      "(405, 6.519999999999999)\n",
      "(455, 6.4799999999999995)\n",
      "(505, 6.542)\n",
      "(555, 6.482000000000001)\n",
      "(605, 6.33)\n",
      "(655, 6.316000000000001)\n",
      "(705, 6.324)\n",
      "(755, 6.444)\n",
      "(805, 6.295999999999999)\n",
      "(855, 6.266)\n",
      "(905, 6.299999999999999)\n",
      "(955, 6.382)\n",
      "\n",
      "(5, 62.038)\n",
      "(55, 17.372)\n",
      "(105, 10.1)\n",
      "(155, 7.83)\n",
      "(205, 7.042)\n",
      "(255, 6.469999999999999)\n",
      "(305, 6.482000000000001)\n",
      "(355, 6.581999999999999)\n",
      "(405, 6.5280000000000005)\n",
      "(455, 6.405999999999999)\n",
      "(505, 6.598000000000001)\n",
      "(555, 6.484)\n",
      "(605, 6.516)\n",
      "(655, 6.360000000000001)\n",
      "(705, 6.396000000000001)\n",
      "(755, 6.442)\n",
      "(805, 6.522)\n",
      "(855, 6.3420000000000005)\n",
      "(905, 6.38)\n",
      "(955, 6.409999999999999)\n",
      "\n",
      "(5, 62.056000000000004)\n",
      "(55, 24.136000000000003)\n",
      "(105, 13.629999999999999)\n",
      "(155, 9.898)\n",
      "(205, 8.526)\n",
      "(255, 7.952)\n",
      "(305, 7.532000000000001)\n",
      "(355, 7.052000000000001)\n",
      "(405, 6.6)\n",
      "(455, 6.642)\n",
      "(505, 6.556)\n",
      "(555, 6.688)\n",
      "(605, 6.954000000000001)\n",
      "(655, 6.8180000000000005)\n",
      "(705, 6.668000000000001)\n",
      "(755, 6.6739999999999995)\n",
      "(805, 6.796000000000001)\n",
      "(855, 6.614)\n",
      "(905, 6.784000000000001)\n",
      "(955, 6.632000000000001)\n"
     ]
    }
   ],
   "source": [
    "print(LC_errors)\n",
    "print(VSV_LC_errors)\n",
    "\n",
    "# plt.clf()\n",
    "# plt.ylim(0, 75)\n",
    "# plt.plot(samples, LC_errors[0], label='Standard RBF')\n",
    "# plt.plot(samples, LC_errors[1], label='Pooling 2x2')\n",
    "# plt.plot(samples, LC_errors[2], label='Pooling 3x3')\n",
    "# plt.plot(samples, VSV_LC_errors, label='VSV')\n",
    "# # plt.title(f\"Learning curve for artificial lines dataset,\\n with {3*n} samples in total\")\n",
    "# plt.legend(loc='upper right')\n",
    "# plt.xlabel(\"Number of training samples\")\n",
    "# plt.ylabel(\"Generalization error\")\n",
    "# plt.savefig(\"learning-curve.png\", dpi=400)\n",
    "# plt.show()\n",
    "\n",
    "for e in LC_errors:\n",
    "    for i in range(0, len(e)):\n",
    "        print(f\"({list(range(5, 1000, 50))[i]}, {e[i]})\")\n",
    "        \n",
    "    print()\n",
    "\n",
    "for i in range(0, len(VSV_LC_errors)):\n",
    "        print(f\"({list(range(5, 1000, 50))[i]}, {VSV_LC_errors[i]})\")  "
   ]
  },
  {
   "cell_type": "markdown",
   "metadata": {},
   "source": [
    "### Performance of SVMs on noisy data"
   ]
  },
  {
   "cell_type": "code",
   "execution_count": 167,
   "metadata": {},
   "outputs": [],
   "source": [
    "gammas = np.logspace(-1.6, -0.65, 15)\n",
    "num_runs = 5\n",
    "\n",
    "noise_errors = np.zeros((len(basic_combinations), len(gammas)))\n",
    "noise_VSV_errors = np.zeros(len(gammas))\n",
    "\n",
    "for rstate in range(0, num_runs):\n",
    "    X_train, X_test, Y_train, Y_test = train_test_split(X_noise, Y, test_size=test_ratio,\n",
    "                                                        random_state=rstate)\n",
    "    \n",
    "    # Test the pooling kernel \n",
    "    for i, f in enumerate(basic_combinations):\n",
    "        combiner = f\n",
    "        current_errors = []\n",
    "        for g in gammas:\n",
    "            A_gamma = B_gamma = C_gamma = g\n",
    "            model = svm.SVC(C=2, cache_size=50, kernel=pooling_kernel)\n",
    "            model.fit(X_train, Y_train)\n",
    "            current_errors.append(test_error(model, X_test, Y_test))\n",
    "        noise_errors[i] += np.asarray(current_errors)\n",
    "    \n",
    "    # Test VSV method\n",
    "    current_errors = []\n",
    "    for g in gammas:\n",
    "        model = SupportVectorMachine(X_train, Y_train, X_test, Y_test, g)\n",
    "        model.train()\n",
    "        model.translate_SV(directions[0:8], 1, 1)\n",
    "        model.train()\n",
    "        current_errors.append(model.error())\n",
    "\n",
    "    noise_VSV_errors += np.asarray(current_errors)\n",
    "\n",
    "noise_VSV_errors = noise_VSV_errors / num_runs\n",
    "noise_errors = noise_errors / num_runs"
   ]
  },
  {
   "cell_type": "code",
   "execution_count": 186,
   "metadata": {},
   "outputs": [
    {
     "name": "stdout",
     "output_type": "stream",
     "text": [
      "(0.025118864315095794, 35.13)\n",
      "(0.029366834982600287, 34.815999999999995)\n",
      "(0.034333200182819934, 34.506)\n",
      "(0.040139451033521366, 34.367999999999995)\n",
      "(0.04692762459348836, 34.232000000000006)\n",
      "(0.054863778484371045, 34.397999999999996)\n",
      "(0.06414205312236927, 34.95399999999999)\n",
      "(0.07498942093324558, 35.934)\n",
      "(0.08767123872968682, 37.41799999999999)\n",
      "(0.10249773907762157, 40.89)\n",
      "(0.11983161944838325, 46.436)\n",
      "(0.1400969148085072, 54.418000000000006)\n",
      "(0.16378937069540642, 60.510000000000005)\n",
      "(0.19148857053323368, 63.70399999999999)\n",
      "(0.22387211385683395, 66.408)\n",
      "\n",
      "(0.025118864315095794, 17.259999999999998)\n",
      "(0.029366834982600287, 16.97)\n",
      "(0.034333200182819934, 16.656)\n",
      "(0.040139451033521366, 16.342)\n",
      "(0.04692762459348836, 15.943999999999999)\n",
      "(0.054863778484371045, 15.765999999999996)\n",
      "(0.06414205312236927, 15.814000000000002)\n",
      "(0.07498942093324558, 16.028)\n",
      "(0.08767123872968682, 17.168)\n",
      "(0.10249773907762157, 19.008000000000003)\n",
      "(0.11983161944838325, 23.490000000000002)\n",
      "(0.1400969148085072, 32.961999999999996)\n",
      "(0.16378937069540642, 45.492)\n",
      "(0.19148857053323368, 56.462)\n",
      "(0.22387211385683395, 62.408)\n",
      "\n",
      "(0.025118864315095794, 11.186000000000002)\n",
      "(0.029366834982600287, 10.888)\n",
      "(0.034333200182819934, 10.602)\n",
      "(0.040139451033521366, 10.295999999999998)\n",
      "(0.04692762459348836, 10.13)\n",
      "(0.054863778484371045, 9.925999999999998)\n",
      "(0.06414205312236927, 9.943999999999999)\n",
      "(0.07498942093324558, 10.094000000000001)\n",
      "(0.08767123872968682, 10.388)\n",
      "(0.10249773907762157, 11.25)\n",
      "(0.11983161944838325, 13.307999999999998)\n",
      "(0.1400969148085072, 17.98)\n",
      "(0.16378937069540642, 27.77)\n",
      "(0.19148857053323368, 41.176)\n",
      "(0.22387211385683395, 53.23199999999999)\n",
      "\n",
      "(0.025118864315095794, 22.628)\n",
      "(0.029366834982600287, 22.204)\n",
      "(0.034333200182819934, 21.759999999999998)\n",
      "(0.040139451033521366, 21.296)\n",
      "(0.04692762459348836, 20.582)\n",
      "(0.054863778484371045, 19.944)\n",
      "(0.06414205312236927, 19.548)\n",
      "(0.07498942093324558, 19.165999999999997)\n",
      "(0.08767123872968682, 18.824)\n",
      "(0.10249773907762157, 18.962)\n",
      "(0.11983161944838325, 19.747999999999998)\n",
      "(0.1400969148085072, 22.369999999999997)\n",
      "(0.16378937069540642, 28.786)\n",
      "(0.19148857053323368, 42.6)\n",
      "(0.22387211385683395, 57.906000000000006)\n"
     ]
    }
   ],
   "source": [
    "for error in noise_errors:\n",
    "    for i in range(0, len(error)):\n",
    "        print(f\"({gammas[i]}, {error[i]})\")\n",
    "        \n",
    "    print()\n",
    "\n",
    "for i in range(0, len(noise_VSV_errors)):\n",
    "        print(f\"({gammas[i]}, {noise_VSV_errors[i]})\")  "
   ]
  },
  {
   "cell_type": "code",
   "execution_count": 178,
   "metadata": {},
   "outputs": [
    {
     "name": "stdout",
     "output_type": "stream",
     "text": [
      "[0.02511886 0.02936683 0.0343332  0.04013945 0.04692762 0.05486378\n",
      " 0.06414205 0.07498942 0.08767124 0.10249774 0.11983162 0.14009691\n",
      " 0.16378937 0.19148857 0.22387211]\n",
      "[[35.13  34.816 34.506 34.368 34.232 34.398 34.954 35.934 37.418 40.89\n",
      "  46.436 54.418 60.51  63.704 66.408]\n",
      " [17.26  16.97  16.656 16.342 15.944 15.766 15.814 16.028 17.168 19.008\n",
      "  23.49  32.962 45.492 56.462 62.408]\n",
      " [11.186 10.888 10.602 10.296 10.13   9.926  9.944 10.094 10.388 11.25\n",
      "  13.308 17.98  27.77  41.176 53.232]]\n",
      "[22.628 22.204 21.76  21.296 20.582 19.944 19.548 19.166 18.824 18.962\n",
      " 19.748 22.37  28.786 42.6   57.906]\n"
     ]
    },
    {
     "data": {
      "image/png": "[encoded data removed]",
      "text/plain": [
       "<Figure size 432x288 with 1 Axes>"
      ]
     },
     "metadata": {
      "needs_background": "light"
     },
     "output_type": "display_data"
    }
   ],
   "source": [
    "plt.clf()\n",
    "plt.ylim(0, 70)\n",
    "plt.plot(gammas, noise_errors[0], label='Standard RBF')\n",
    "plt.plot(gammas, noise_errors[1], label='Pooling 2x2')\n",
    "plt.plot(gammas, noise_errors[2], label='Pooling 3x3')\n",
    "plt.plot(gammas, noise_VSV_errors, label='VSV')\n",
    "\n",
    "VSV_gamma_noise = gammas[np.argmin(noise_VSV_errors)]\n",
    "standard_gamma_noise = gammas[np.argmin(noise_errors[0])]\n",
    "pooling2_gamma_noise = gammas[np.argmin(noise_errors[1])]\n",
    "pooling3_gamma_noise = gammas[np.argmin(noise_errors[2])]\n",
    "\n",
    "noise_optimal_gammas = [standard_gamma_noise, pooling2_gamma_noise, pooling3_gamma_noise, VSV_gamma_noise]\n",
    "\n",
    "# plt.title(f\"Artificial Lines dataset\")\n",
    "plt.legend(loc='upper left')\n",
    "plt.xlabel(\"$\\gamma$\")\n",
    "plt.ylabel(\"Generalization error\")\n",
    "print(gammas)\n",
    "print(noise_errors)\n",
    "print(noise_VSV_errors)\n",
    "plt.savefig(\"kernel-comparison-noise.png\", dpi=400)\n",
    "plt.show()"
   ]
  },
  {
   "cell_type": "code",
   "execution_count": 176,
   "metadata": {},
   "outputs": [
    {
     "name": "stdout",
     "output_type": "stream",
     "text": [
      "Minimum noise errors:\n",
      "\n",
      "VSV SVM: 18.824 with gamma 0.08767123872968682\n",
      "Standard SVM: 34.232000000000006 with gamma 0.04692762459348836\n",
      "Pooling 2x2 SVM: 15.765999999999996 with gamma 0.054863778484371045\n",
      "Pooling 3x3 SVM: 9.925999999999998 with gamma 0.054863778484371045\n"
     ]
    }
   ],
   "source": [
    "print(\"Minimum noise errors:\\n\")\n",
    "\n",
    "print(f\"VSV SVM: {noise_VSV_errors[np.argmin(noise_VSV_errors)]} with gamma {VSV_gamma_noise}\" )\n",
    "print(f\"Standard SVM: {noise_errors[0][np.argmin(noise_errors[0])]} with gamma {standard_gamma_noise}\" )\n",
    "print(f\"Pooling 2x2 SVM: {noise_errors[1][np.argmin(noise_errors[1])]} with gamma {pooling2_gamma_noise}\" )\n",
    "print(f\"Pooling 3x3 SVM: {noise_errors[2][np.argmin(noise_errors[2])]} with gamma {pooling3_gamma_noise}\" )"
   ]
  },
  {
   "cell_type": "markdown",
   "metadata": {},
   "source": [
    "### Generate learning curves for noisy data set"
   ]
  },
  {
   "cell_type": "code",
   "execution_count": 169,
   "metadata": {},
   "outputs": [],
   "source": [
    "index = np.argmin(noise_errors)\n",
    "A_gamma = B_gamma = C_gamma = gammas[index % len(gammas)]\n",
    "samples = range(5, 1050, 50)\n",
    "\n",
    "num_runs = 5\n",
    "\n",
    "LC_errors_noise = np.zeros((len(basic_combinations), len(samples)))\n",
    "VSV_LC_errors_noise = np.zeros(len(samples))\n",
    "\n",
    "for rstate in range(0, num_runs):\n",
    "\n",
    "    for i, num in enumerate(samples):\n",
    "\n",
    "        X_train, X_test, Y_train, Y_test = train_test_split(X_noise, Y, test_size=3*n-num,\n",
    "                                                            random_state=rstate)\n",
    "        # Test the pooling kernel\n",
    "        for j, f in enumerate(basic_combinations):\n",
    "            A_gamma = B_gamma = C_gamma = noise_optimal_gammas[j]\n",
    "            combiner = f\n",
    "            model = svm.SVC(C=2, cache_size=50, kernel=pooling_kernel)\n",
    "            model.fit(X_train, Y_train)\n",
    "            LC_errors_noise[j][i] += test_error(model, X_test, Y_test)\n",
    "            \n",
    "        # Test VSV method\n",
    "        model = SupportVectorMachine(X_train, Y_train, X_test, Y_test, VSV_gamma_noise)\n",
    "        model.train()\n",
    "        model.translate_SV(directions[0:8], 1, 1)\n",
    "        model.train()\n",
    "        VSV_LC_errors_noise[i] += model.error()\n",
    "\n",
    "LC_errors_noise = LC_errors_noise / num_runs\n",
    "VSV_LC_errors_noise = VSV_LC_errors_noise / num_runs"
   ]
  },
  {
   "cell_type": "code",
   "execution_count": 174,
   "metadata": {},
   "outputs": [
    {
     "data": {
      "image/png": "[encoded data removed]",
      "text/plain": [
       "<Figure size 432x288 with 1 Axes>"
      ]
     },
     "metadata": {
      "needs_background": "light"
     },
     "output_type": "display_data"
    },
    {
     "name": "stdout",
     "output_type": "stream",
     "text": [
      "[0.04692762459348836, 0.054863778484371045, 0.054863778484371045, 0.08767123872968682]\n",
      "[[66.528 57.654 46.518 41.096 37.822 33.37  31.198 29.232 27.74  26.356\n",
      "  25.044 24.53  24.38  23.658 23.696 22.566 21.956 22.02  21.27  20.636\n",
      "  20.458]\n",
      " [65.868 43.548 27.12  20.72  17.976 15.246 13.642 12.83  12.28  11.73\n",
      "  11.504 11.132 11.21  10.878 10.702 10.334 10.444 10.162 10.142  9.898\n",
      "  10.052]\n",
      " [64.996 29.808 16.27  12.774 10.826  9.8    9.012  8.696  8.31   8.288\n",
      "   8.138  7.902  7.844  7.782  7.738  7.488  7.498  7.454  7.504  7.584\n",
      "   7.658]]\n",
      "[65.302 44.134 29.718 23.026 20.538 18.248 16.64  15.764 15.318 14.774\n",
      " 14.362 13.962 13.926 13.858 13.474 13.348 13.04  12.776 12.616 12.596\n",
      " 12.4  ]\n"
     ]
    }
   ],
   "source": [
    "plt.clf()\n",
    "plt.ylim(0, 75)\n",
    "plt.plot(samples, LC_errors_noise[0], label='Standard RBF')\n",
    "plt.plot(samples, LC_errors_noise[1], label='Pooling 2x2')\n",
    "plt.plot(samples, LC_errors_noise[2], label='Pooling 3x3')\n",
    "plt.plot(samples, VSV_LC_errors_noise, label='VSV')\n",
    "# plt.title(f\"Learning curve for noisy artificial lines dataset,\\n with {3*n} samples in total\")\n",
    "plt.legend(loc='upper right')\n",
    "plt.xlabel(\"Number of training samples\")\n",
    "plt.ylabel(\"Generalization error\")\n",
    "plt.savefig(\"learning-curve-noise.png\", dpi=400)\n",
    "plt.show()\n",
    "print(noise_optimal_gammas)\n",
    "print(LC_errors_noise)\n",
    "print(VSV_LC_errors_noise)"
   ]
  },
  {
   "cell_type": "code",
   "execution_count": 188,
   "metadata": {},
   "outputs": [
    {
     "name": "stdout",
     "output_type": "stream",
     "text": [
      "(5, 66.52799999999999)\n",
      "(55, 57.653999999999996)\n",
      "(105, 46.518)\n",
      "(155, 41.096)\n",
      "(205, 37.822)\n",
      "(255, 33.370000000000005)\n",
      "(305, 31.198)\n",
      "(355, 29.232)\n",
      "(405, 27.74)\n",
      "(455, 26.356)\n",
      "(505, 25.043999999999997)\n",
      "(555, 24.53)\n",
      "(605, 24.380000000000003)\n",
      "(655, 23.657999999999998)\n",
      "(705, 23.695999999999998)\n",
      "(755, 22.566)\n",
      "(805, 21.956)\n",
      "(855, 22.020000000000003)\n",
      "(905, 21.270000000000003)\n",
      "(955, 20.636)\n",
      "(1005, 20.458000000000002)\n",
      "\n",
      "(5, 65.86800000000001)\n",
      "(55, 43.547999999999995)\n",
      "(105, 27.119999999999997)\n",
      "(155, 20.720000000000002)\n",
      "(205, 17.976)\n",
      "(255, 15.246)\n",
      "(305, 13.642)\n",
      "(355, 12.829999999999998)\n",
      "(405, 12.28)\n",
      "(455, 11.73)\n",
      "(505, 11.504)\n",
      "(555, 11.132)\n",
      "(605, 11.209999999999999)\n",
      "(655, 10.878)\n",
      "(705, 10.702000000000002)\n",
      "(755, 10.334)\n",
      "(805, 10.443999999999999)\n",
      "(855, 10.162)\n",
      "(905, 10.142)\n",
      "(955, 9.898)\n",
      "(1005, 10.052)\n",
      "\n",
      "(5, 64.99600000000001)\n",
      "(55, 29.808)\n",
      "(105, 16.27)\n",
      "(155, 12.774000000000001)\n",
      "(205, 10.826)\n",
      "(255, 9.8)\n",
      "(305, 9.012)\n",
      "(355, 8.696)\n",
      "(405, 8.309999999999999)\n",
      "(455, 8.288)\n",
      "(505, 8.138000000000002)\n",
      "(555, 7.901999999999999)\n",
      "(605, 7.843999999999999)\n",
      "(655, 7.782000000000001)\n",
      "(705, 7.7379999999999995)\n",
      "(755, 7.4879999999999995)\n",
      "(805, 7.498)\n",
      "(855, 7.453999999999999)\n",
      "(905, 7.504)\n",
      "(955, 7.5840000000000005)\n",
      "(1005, 7.6579999999999995)\n",
      "\n",
      "(5, 65.30199999999999)\n",
      "(55, 44.134)\n",
      "(105, 29.718)\n",
      "(155, 23.026)\n",
      "(205, 20.538)\n",
      "(255, 18.248)\n",
      "(305, 16.639999999999997)\n",
      "(355, 15.764)\n",
      "(405, 15.318000000000001)\n",
      "(455, 14.774000000000001)\n",
      "(505, 14.362)\n",
      "(555, 13.962)\n",
      "(605, 13.925999999999998)\n",
      "(655, 13.857999999999999)\n",
      "(705, 13.474)\n",
      "(755, 13.347999999999999)\n",
      "(805, 13.039999999999997)\n",
      "(855, 12.776)\n",
      "(905, 12.616)\n",
      "(955, 12.596)\n",
      "(1005, 12.399999999999999)\n"
     ]
    }
   ],
   "source": [
    "for e in LC_errors_noise:\n",
    "    for i in range(0, len(e)):\n",
    "        print(f\"({list(range(5, 1050, 50))[i]}, {e[i]})\")\n",
    "        \n",
    "    print()\n",
    "\n",
    "for i in range(0, len(VSV_LC_errors_noise)):\n",
    "        print(f\"({list(range(5, 1050, 50))[i]}, {VSV_LC_errors_noise[i]})\")  "
   ]
  }
 ],
 "metadata": {
  "kernelspec": {
   "display_name": "Python 3",
   "language": "python",
   "name": "python3"
  },
  "language_info": {
   "codemirror_mode": {
    "name": "ipython",
    "version": 3
   },
   "file_extension": ".py",
   "mimetype": "text/x-python",
   "name": "python",
   "nbconvert_exporter": "python",
   "pygments_lexer": "ipython3",
   "version": "3.7.4"
  }
 },
 "nbformat": 4,
 "nbformat_minor": 4
}
